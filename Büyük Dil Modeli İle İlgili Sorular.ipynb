{
 "cells": [
  {
   "cell_type": "markdown",
   "id": "f2ba4254-d7f6-4291-aa73-e111ea495ef0",
   "metadata": {},
   "source": [
    "# Ka|Ve 2025 - Yapay Zeka Special Force Eğitimi - Seçme Sınav Soruları - Teorik Ağırlıklı Sorular"
   ]
  },
  {
   "cell_type": "markdown",
   "id": "cba64ffd-c4e9-4a61-a869-39af97f19501",
   "metadata": {},
   "source": [
    "Aşağıdaki challenge’lardan sadece biri için çözümünü bir rapor halinde görmek isteriz. Kod ve raporunu zipleyip gönderiniz."
   ]
  },
  {
   "cell_type": "markdown",
   "id": "779990fe-173f-4bc6-b9ab-63852078cdad",
   "metadata": {},
   "source": [
    "# Soru-1\n",
    "\n",
    "Sorulduğunda bileşik faiz hesaplama aracı kullanabilen bir llama modeli yazınız. Örneğin aylık %3 getiri 9 ayda ne getirir dediğinde 1,03^9-1 hesabını yapması gerek.\n",
    "\n",
    "### Önemli Not: Başvuru kabulü için size sorulan soruyu çözmenizden çok, o soruyu çözmek için ne kadar uğraştığınız önemlidir. Motivasyonu yüksek gençlerle çalışmak çok farklı, bunu biliyoruz, sizi önemsiyoruz ve bekliyoruz.\n",
    "\n",
    "### Soru İçeriği\n",
    "1. LLama Modelinin Seçilmesi\n",
    "2. Tool'ların Tanımlanması\n",
    "3. Sistemin kurulması ve test edilmesi\n",
    "4. Raporun yazılması ve kod ve raporun zip olarak gönderilmesi"
   ]
  },
  {
   "cell_type": "code",
   "execution_count": null,
   "id": "a8b16b78-957f-4f92-80b5-904509752b48",
   "metadata": {},
   "outputs": [],
   "source": []
  },
  {
   "cell_type": "markdown",
   "id": "183e3394-3bf3-441a-8b6b-23e0f2566a3f",
   "metadata": {},
   "source": [
    "# Soru-2\n",
    "\n",
    "Verilen yılda altın mı daha çok yoksa gümüş mü daha çok kazandırdı diye sorduğunuzda internet ya da api ile cevabı döndürebilen bir agent yazınız.\n",
    "\n",
    "### Önemli Not: Başvuru kabulü için size sorulan soruyu çözmenizden çok, o soruyu çözmek için ne kadar uğraştığınız önemlidir. Motivasyonu yüksek gençlerle çalışmak çok farklı, bunu biliyoruz, sizi önemsiyoruz ve bekliyoruz.\n",
    "\n",
    "### Soru İçeriği\n",
    "1. Agent'ın Prompt'unun tanımlanması\n",
    "2. LLM için internal veya API şeklinde tanımlama yapılması\n",
    "3. Sistemin kurulması ve test edilmesi\n",
    "4. Raporun yazılması ve kod ve raporun zip olarak gönderilmesi"
   ]
  },
  {
   "cell_type": "code",
   "execution_count": null,
   "id": "180b0dd6-8f2c-42f3-84cc-42adf4a05a80",
   "metadata": {},
   "outputs": [],
   "source": []
  }
 ],
 "metadata": {
  "kernelspec": {
   "display_name": "Python 3 (ipykernel)",
   "language": "python",
   "name": "python3"
  },
  "language_info": {
   "codemirror_mode": {
    "name": "ipython",
    "version": 3
   },
   "file_extension": ".py",
   "mimetype": "text/x-python",
   "name": "python",
   "nbconvert_exporter": "python",
   "pygments_lexer": "ipython3",
   "version": "3.10.11"
  }
 },
 "nbformat": 4,
 "nbformat_minor": 5
}
